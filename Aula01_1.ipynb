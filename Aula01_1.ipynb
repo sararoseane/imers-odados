{
 "cells": [
  {
   "cell_type": "code",
   "execution_count": 1,
   "metadata": {},
   "outputs": [],
   "source": [
    "import pandas as pd\n",
    "import matplotlib\n",
    "dados = pd.read_csv('dados_imoveis.csv')\n",
    "\n",
    "dados.head()\n",
    "dados[\"Bairro\"][800]\n",
    "dados[\"Metragem\"].mean()\n",
    "dados[\"Bairro\"]\n",
    "\n",
    "cs = ['Bairro','Metragem']\n",
    "dados_bairros= dados.filter(items=cs)\n",
    "dados_bairros.head()\n",
    "\n",
    "#dados_bairros.groupby('Bairro').min()\n",
    "media_bairros= dados_bairros.groupby([\"Bairro\"]).mean()\n",
    "#media_bairros.plot.hist()\n",
    "#dados[\"Metragem\"].describe()['mean']\n"
   ]
  }
 ],
 "metadata": {
  "interpreter": {
   "hash": "97fcfa4012d799ab64d9ab00e3e1b7fea4f4a48eff962b8c17f216788e749b19"
  },
  "kernelspec": {
   "display_name": "Python 3.10.2 64-bit",
   "language": "python",
   "name": "python3"
  },
  "language_info": {
   "codemirror_mode": {
    "name": "ipython",
    "version": 3
   },
   "file_extension": ".py",
   "mimetype": "text/x-python",
   "name": "python",
   "nbconvert_exporter": "python",
   "pygments_lexer": "ipython3",
   "version": "3.10.4"
  },
  "orig_nbformat": 4
 },
 "nbformat": 4,
 "nbformat_minor": 2
}
