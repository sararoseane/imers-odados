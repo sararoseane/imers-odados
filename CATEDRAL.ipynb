{
 "cells": [
  {
   "cell_type": "code",
   "execution_count": null,
   "metadata": {},
   "outputs": [],
   "source": [
    "#importando firebird e pandas\n",
    "import firebirdsql\n",
    "import pandas as pd\n",
    "import matplotlib\n",
    "\n",
    "\n",
    "#conexão ao banco de dados\n",
    "con = firebirdsql.connect(user='SYSDBA', \n",
    "password='Laika06', \n",
    "host='179.177.24.58',\n",
    "database='D:\\\\BASE\\SARA\\\\CATEDRAL.FDB')\n",
    "\n",
    "\n",
    "cur=con.cursor()\n",
    "\"\"\"\"\n",
    "cur.execute('select * from sistb001_operador')\n",
    "\n",
    "for c in cur.fetchall():\n",
    "    print(c)\n",
    "print('Finalizado')    \"\"\" \n",
    "\n",
    "#query no banco de dados\n",
    "df = pd.read_sql_query(\"select * from sistb001_operador\",con)\n",
    "print(df.head())\n",
    "\n",
    "df_index = pd.read_sql_query(\"select * from sistb001_operador\", con, index_col=\"IC_ATIVO\")\n",
    "print(df_index.head())\n",
    "\n",
    "query = '''\n",
    "SELECT f.no_funcionario,\n",
    "       fu.no_funcao\n",
    "\n",
    "FROM sistb011_funcionario f\n",
    "INNER JOIN sistb009_funcao fu\n",
    "ON f.nu_funcao = fu.nu_funcao;\n",
    "\n",
    "'''\n",
    "\n",
    "df = pd.read_sql_query (query, con)\n",
    "print(df.head())\n",
    "\n",
    "query_venda_funcionario = '''\n",
    "SELECT v.co_operador, count(*)FROM sistb007_venda v\n",
    "GROUP BY v.co_operador\n",
    "ORDER BY count(*) DESC;\n",
    "'''\n",
    "\n",
    "venda = pd.read_sql_query(query_venda_funcionario, con)\n",
    "print(venda.head())\n",
    "\n",
    "funcionarios_venda = venda.groupby('CO_OPERADOR')['COUNT'].mean()\n",
    "funcionarios_venda.head().plot(kind='pie', autopct='%0.2f', figsize=(5,5), label='Vendas')"
   ]
  }
 ],
 "metadata": {
  "interpreter": {
   "hash": "97fcfa4012d799ab64d9ab00e3e1b7fea4f4a48eff962b8c17f216788e749b19"
  },
  "kernelspec": {
   "display_name": "Python 3.10.2 64-bit",
   "language": "python",
   "name": "python3"
  },
  "language_info": {
   "codemirror_mode": {
    "name": "ipython",
    "version": 3
   },
   "file_extension": ".py",
   "mimetype": "text/x-python",
   "name": "python",
   "nbconvert_exporter": "python",
   "pygments_lexer": "ipython3",
   "version": "3.10.4"
  },
  "orig_nbformat": 4
 },
 "nbformat": 4,
 "nbformat_minor": 2
}
