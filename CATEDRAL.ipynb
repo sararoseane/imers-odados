{
 "cells": [
  {
   "cell_type": "code",
   "execution_count": 2,
   "metadata": {},
   "outputs": [
    {
     "name": "stdout",
     "output_type": "stream",
     "text": [
      "  CO_OPERADOR NO_OPERADOR  CO_SENHA  NI_OPERADOR CO_SENHA_ESTORNO  \\\n",
      "0       CAIXA        None     ª?¬¿;            1          ª?¬¿;Â³   \n",
      "1      CAIXA1        None    ª?¬¿;Â            3             None   \n",
      "2  ENTREGADOR  ENTREGADOR      None            4             None   \n",
      "3  CATEDRAL10  CATEDRAL10  ÚLÕÕLÇµH            4             None   \n",
      "4     DANIELA        None   ­?«®?¿Â            3             None   \n",
      "\n",
      "   VR_MAX_DESC_OPERADOR IC_OPCAO_TELA_TOUCH                          CO_CAMPO  \\\n",
      "0                   NaN                   3                              None   \n",
      "1                   0.0                None                              None   \n",
      "2                   0.0                None                              None   \n",
      "3                   0.0                None                              None   \n",
      "4                  10.0                None  c5f4f6dd5eda0bb8b2c323d8eb73a089   \n",
      "\n",
      "   IC_ATIVO  \n",
      "0         1  \n",
      "1         1  \n",
      "2         1  \n",
      "3         1  \n",
      "4         1  \n",
      "         CO_OPERADOR NO_OPERADOR  CO_SENHA  NI_OPERADOR CO_SENHA_ESTORNO  \\\n",
      "IC_ATIVO                                                                   \n",
      "1              CAIXA        None     ª?¬¿;            1          ª?¬¿;Â³   \n",
      "1             CAIXA1        None    ª?¬¿;Â            3             None   \n",
      "1         ENTREGADOR  ENTREGADOR      None            4             None   \n",
      "1         CATEDRAL10  CATEDRAL10  ÚLÕÕLÇµH            4             None   \n",
      "1            DANIELA        None   ­?«®?¿Â            3             None   \n",
      "\n",
      "          VR_MAX_DESC_OPERADOR IC_OPCAO_TELA_TOUCH  \\\n",
      "IC_ATIVO                                             \n",
      "1                          NaN                   3   \n",
      "1                          0.0                None   \n",
      "1                          0.0                None   \n",
      "1                          0.0                None   \n",
      "1                         10.0                None   \n",
      "\n",
      "                                  CO_CAMPO  \n",
      "IC_ATIVO                                    \n",
      "1                                     None  \n",
      "1                                     None  \n",
      "1                                     None  \n",
      "1                                     None  \n",
      "1         c5f4f6dd5eda0bb8b2c323d8eb73a089  \n",
      "  NO_FUNCIONARIO   NO_FUNCAO\n",
      "0          TESTE   ATENDENTE\n",
      "1           JOAO  ENTREGADOR\n",
      "2       CATEDRAL   ATENDENTE\n",
      "3           ATEN   ATENDENTE\n",
      "4     CATEDRAL10   ATENDENTE\n",
      "  CO_OPERADOR  COUNT\n",
      "0  SUPORTERDR    230\n",
      "1       CAIXA     42\n",
      "2     DANIELA     13\n",
      "3      CAIXA1      5\n",
      "4       LUCAS      3\n"
     ]
    },
    {
     "name": "stderr",
     "output_type": "stream",
     "text": [
      "c:\\Users\\suporte10\\AppData\\Local\\Programs\\Python\\Python310\\lib\\site-packages\\pandas\\io\\sql.py:761: UserWarning: pandas only support SQLAlchemy connectable(engine/connection) ordatabase string URI or sqlite3 DBAPI2 connectionother DBAPI2 objects are not tested, please consider using SQLAlchemy\n",
      "  warnings.warn(\n",
      "c:\\Users\\suporte10\\AppData\\Local\\Programs\\Python\\Python310\\lib\\site-packages\\pandas\\io\\sql.py:761: UserWarning: pandas only support SQLAlchemy connectable(engine/connection) ordatabase string URI or sqlite3 DBAPI2 connectionother DBAPI2 objects are not tested, please consider using SQLAlchemy\n",
      "  warnings.warn(\n",
      "c:\\Users\\suporte10\\AppData\\Local\\Programs\\Python\\Python310\\lib\\site-packages\\pandas\\io\\sql.py:761: UserWarning: pandas only support SQLAlchemy connectable(engine/connection) ordatabase string URI or sqlite3 DBAPI2 connectionother DBAPI2 objects are not tested, please consider using SQLAlchemy\n",
      "  warnings.warn(\n",
      "c:\\Users\\suporte10\\AppData\\Local\\Programs\\Python\\Python310\\lib\\site-packages\\pandas\\io\\sql.py:761: UserWarning: pandas only support SQLAlchemy connectable(engine/connection) ordatabase string URI or sqlite3 DBAPI2 connectionother DBAPI2 objects are not tested, please consider using SQLAlchemy\n",
      "  warnings.warn(\n"
     ]
    },
    {
     "data": {
      "text/plain": [
       "<AxesSubplot:ylabel='Vendas'>"
      ]
     },
     "execution_count": 2,
     "metadata": {},
     "output_type": "execute_result"
    },
    {
     "data": {
      "image/png": "[encoded data removed]",
      "text/plain": [
       "<Figure size 360x360 with 1 Axes>"
      ]
     },
     "metadata": {},
     "output_type": "display_data"
    }
   ],
   "source": [
    "#importando firebird e pandas\n",
    "import firebirdsql\n",
    "import pandas as pd\n",
    "import matplotlib\n",
    "\n",
    "\n",
    "#conexão ao banco de dados\n",
    "con = firebirdsql.Connection(user='SYSDBA', \n",
    "password='Laika06', \n",
    "database='C:\\\\RDR\\DADOS\\\\Catedral.FDB', \n",
    "host=\"localhost\", charset=\"ansi\")\n",
    "\n",
    "\n",
    "cur=con.cursor()\n",
    "\"\"\"\"\n",
    "cur.execute('select * from sistb001_operador')\n",
    "\n",
    "for c in cur.fetchall():\n",
    "    print(c)\n",
    "print('Finalizado')    \"\"\" \n",
    "\n",
    "#query no banco de dados\n",
    "df = pd.read_sql_query(\"select * from sistb001_operador\",con)\n",
    "print(df.head())\n",
    "\n",
    "df_index = pd.read_sql_query(\"select * from sistb001_operador\", con, index_col=\"IC_ATIVO\")\n",
    "print(df_index.head())\n",
    "\n",
    "query = '''\n",
    "SELECT f.no_funcionario,\n",
    "       fu.no_funcao\n",
    "\n",
    "FROM sistb011_funcionario f\n",
    "INNER JOIN sistb009_funcao fu\n",
    "ON f.nu_funcao = fu.nu_funcao;\n",
    "\n",
    "'''\n",
    "\n",
    "df = pd.read_sql_query (query, con)\n",
    "print(df.head())\n",
    "\n",
    "query_venda_funcionario = '''\n",
    "SELECT v.co_operador, count(*)FROM sistb007_venda v\n",
    "GROUP BY v.co_operador\n",
    "ORDER BY count(*) DESC;\n",
    "'''\n",
    "\n",
    "venda = pd.read_sql_query(query_venda_funcionario, con)\n",
    "print(venda.head())\n",
    "\n",
    "funcionarios_venda = venda.groupby('CO_OPERADOR')['COUNT'].mean()\n",
    "funcionarios_venda.head().plot(kind='pie', autopct='%0.2f', figsize=(5,5), label='Vendas')"
   ]
  }
 ],
 "metadata": {
  "interpreter": {
   "hash": "97fcfa4012d799ab64d9ab00e3e1b7fea4f4a48eff962b8c17f216788e749b19"
  },
  "kernelspec": {
   "display_name": "Python 3.10.2 64-bit",
   "language": "python",
   "name": "python3"
  },
  "language_info": {
   "codemirror_mode": {
    "name": "ipython",
    "version": 3
   },
   "file_extension": ".py",
   "mimetype": "text/x-python",
   "name": "python",
   "nbconvert_exporter": "python",
   "pygments_lexer": "ipython3",
   "version": "3.10.4"
  },
  "orig_nbformat": 4
 },
 "nbformat": 4,
 "nbformat_minor": 2
}
